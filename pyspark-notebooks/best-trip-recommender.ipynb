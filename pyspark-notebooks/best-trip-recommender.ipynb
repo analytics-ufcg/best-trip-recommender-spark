{
 "cells": [
  {
   "cell_type": "code",
   "execution_count": 1,
   "metadata": {
    "collapsed": true
   },
   "outputs": [],
   "source": [
    "import pyspark\n",
    "import matplotlib.pyplot as plt\n",
    "from pyspark.ml.feature import VectorAssembler\n",
    "from pyspark.ml import Pipeline\n",
    "from pyspark.ml.feature import StringIndexer\n",
    "\n",
    "#MLlib\n",
    "from pyspark.ml.regression import LinearRegression, LinearRegressionModel\n",
    "#from pyspark.ml.classification import "
   ]
  },
  {
   "cell_type": "code",
   "execution_count": 2,
   "metadata": {
    "collapsed": true
   },
   "outputs": [],
   "source": [
    "sc = pyspark.SparkContext('local[*]')\n",
    "sqlContext = pyspark.SQLContext(sc)"
   ]
  },
  {
   "cell_type": "code",
   "execution_count": 3,
   "metadata": {
    "collapsed": true
   },
   "outputs": [],
   "source": [
    "def print_train_info(model):\n",
    "    print(\"Model:\")\n",
    "    print(\"Coefficients: %s\" % str(model.coefficients))\n",
    "    print(\"Intercept: %s\" % str(model.intercept))\n",
    "    print(\"  \")\n",
    "    print(\"Model info\")\n",
    "    trainingSummary = model.summary\n",
    "    print(\"numIterations: %d\" % trainingSummary.totalIterations)\n",
    "    print(\"RMSE: %f\" % trainingSummary.rootMeanSquaredError)\n",
    "    print(\"MAE: %f\" % trainingSummary.meanAbsoluteError)\n",
    "    print(\"r2: %f\" % trainingSummary.r2)\n",
    "\n",
    "def print_eval_info(model_eval):\n",
    "    print(\"Eval info:\")\n",
    "    print(\"RMSE: %f\" % model_eval.rootMeanSquaredError)\n",
    "    print(\"MAE: %f\" % model_eval.meanAbsoluteError)\n",
    "    print(\"r2: %f\" % model_eval.r2)"
   ]
  },
  {
   "cell_type": "code",
   "execution_count": 4,
   "metadata": {
    "collapsed": true
   },
   "outputs": [],
   "source": [
    "df = sqlContext.read.format(\"csv\").option(\"header\", \"true\").option(\"inferSchema\",\"true\").load(\"data/curitiba/prediction_data.csv\")\n",
    "\n",
    "df = df.withColumn('date_timestamp', df['date'].cast('Integer'))"
   ]
  },
  {
   "cell_type": "code",
   "execution_count": 5,
   "metadata": {
    "scrolled": false
   },
   "outputs": [
    {
     "name": "stdout",
     "output_type": "stream",
     "text": [
      "root\n",
      " |-- route: string (nullable = true)\n",
      " |-- date: timestamp (nullable = true)\n",
      " |-- departure: integer (nullable = true)\n",
      " |-- arrival: integer (nullable = true)\n",
      " |-- totalpassengers: integer (nullable = true)\n",
      " |-- week_day: string (nullable = true)\n",
      " |-- group_15_minutes: integer (nullable = true)\n",
      " |-- duration: double (nullable = true)\n",
      " |-- difference_previous_schedule: string (nullable = true)\n",
      " |-- difference_next_schedule: string (nullable = true)\n",
      " |-- date_timestamp: integer (nullable = true)\n",
      "\n",
      "None\n",
      "+-----+--------------------+---------+-------+---------------+--------+----------------+----------------+----------------------------+------------------------+--------------+\n",
      "|route|                date|departure|arrival|totalpassengers|week_day|group_15_minutes|        duration|difference_previous_schedule|difference_next_schedule|date_timestamp|\n",
      "+-----+--------------------+---------+-------+---------------+--------+----------------+----------------+----------------------------+------------------------+--------------+\n",
      "|  507|2016-06-18 00:00:...|    16518|  21142|              0|Saturday|           16200|77.0666666666667|                          NA|        23.6833333333333|    1466208000|\n",
      "+-----+--------------------+---------+-------+---------------+--------+----------------+----------------+----------------------------+------------------------+--------------+\n",
      "only showing top 1 row\n",
      "\n",
      "None\n"
     ]
    }
   ],
   "source": [
    "print df.printSchema()\n",
    "print df.show(1)"
   ]
  },
  {
   "cell_type": "code",
   "execution_count": 6,
   "metadata": {
    "collapsed": true
   },
   "outputs": [],
   "source": [
    "string_columns = [\"route\", \"week_day\", \"difference_previous_schedule\", \"difference_next_schedule\"]\n",
    "indexers = [StringIndexer(inputCol=column, outputCol=column+\"_index\").fit(df) for column in string_columns]\n",
    "\n",
    "pipeline = Pipeline(stages=indexers)\n",
    "df_r = pipeline.fit(df).transform(df)"
   ]
  },
  {
   "cell_type": "code",
   "execution_count": 7,
   "metadata": {
    "collapsed": true
   },
   "outputs": [],
   "source": [
    "features = [\"route_index\", \"date_timestamp\", \"week_day_index\", \"group_15_minutes\", \"difference_next_schedule_index\", \"difference_previous_schedule_index\"]\n",
    "\n",
    "assembler = VectorAssembler(\n",
    "    inputCols=features,\n",
    "    outputCol='features')\n",
    "\n",
    "assembled_df = assembler.transform(df_r)"
   ]
  },
  {
   "cell_type": "code",
   "execution_count": 8,
   "metadata": {
    "collapsed": true
   },
   "outputs": [],
   "source": [
    "train, test = assembled_df.randomSplit([0.6, 0.4], seed=0)"
   ]
  },
  {
   "cell_type": "markdown",
   "metadata": {},
   "source": [
    "## Trip Duratiom model\n",
    "\n",
    "### Lasso regresion"
   ]
  },
  {
   "cell_type": "code",
   "execution_count": 9,
   "metadata": {
    "collapsed": true
   },
   "outputs": [],
   "source": [
    "duration_lr = LinearRegression(maxIter=10, regParam=0.01, elasticNetParam=1.0).setLabelCol(\"duration\").setFeaturesCol(\"features\")\n",
    "\n",
    "duration_lrModel = duration_lr.fit(train)"
   ]
  },
  {
   "cell_type": "code",
   "execution_count": 10,
   "metadata": {},
   "outputs": [
    {
     "name": "stdout",
     "output_type": "stream",
     "text": [
      "Model:\n",
      "Coefficients: [-0.0700377141198,3.0096734781e-07,-0.531780519936,-2.41339299044e-05,-0.000596150175759,-0.000530622183158]\n",
      "Intercept: -401.380450276\n",
      "  \n",
      "Model info\n",
      "numIterations: 11\n",
      "RMSE: 20.849891\n",
      "MAE: 13.726247\n",
      "r2: 0.054802\n"
     ]
    }
   ],
   "source": [
    "print_train_info(duration_lrModel)"
   ]
  },
  {
   "cell_type": "code",
   "execution_count": 11,
   "metadata": {
    "collapsed": true
   },
   "outputs": [],
   "source": [
    "duration_model_eval = duration_lrModel.evaluate(test)"
   ]
  },
  {
   "cell_type": "code",
   "execution_count": 12,
   "metadata": {},
   "outputs": [
    {
     "name": "stdout",
     "output_type": "stream",
     "text": [
      "Eval info:\n",
      "RMSE: 20.260875\n",
      "MAE: 13.681778\n",
      "r2: 0.053832\n"
     ]
    }
   ],
   "source": [
    "print_eval_info(duration_model_eval)"
   ]
  },
  {
   "cell_type": "markdown",
   "metadata": {},
   "source": [
    "Saving model:"
   ]
  },
  {
   "cell_type": "code",
   "execution_count": 29,
   "metadata": {},
   "outputs": [],
   "source": [
    "duration_lrModel.write().overwrite().save(\"data/models/duration_lasso_model\")"
   ]
  },
  {
   "cell_type": "markdown",
   "metadata": {},
   "source": [
    "Loading model:"
   ]
  },
  {
   "cell_type": "code",
   "execution_count": 30,
   "metadata": {
    "collapsed": true
   },
   "outputs": [],
   "source": [
    "duration_lrModel_loaded = LinearRegressionModel.load(\"data/models/duration_lasso_model\")"
   ]
  },
  {
   "cell_type": "markdown",
   "metadata": {},
   "source": [
    "Evaluating loaded model:"
   ]
  },
  {
   "cell_type": "code",
   "execution_count": 31,
   "metadata": {},
   "outputs": [
    {
     "name": "stdout",
     "output_type": "stream",
     "text": [
      "Eval info:\n",
      "RMSE: 20.260875\n",
      "MAE: 13.681778\n",
      "r2: 0.053832\n"
     ]
    }
   ],
   "source": [
    "duration_model_loaded_eval = duration_lrModel_loaded.evaluate(test)\n",
    "\n",
    "print_eval_info(duration_model_loaded_eval)"
   ]
  },
  {
   "cell_type": "markdown",
   "metadata": {},
   "source": [
    "### SVM regresion"
   ]
  },
  {
   "cell_type": "code",
   "execution_count": 26,
   "metadata": {},
   "outputs": [
    {
     "ename": "TypeError",
     "evalue": "__init__() got an unexpected keyword argument 'maxIter'",
     "output_type": "error",
     "traceback": [
      "\u001b[0;31m---------------------------------------------------------------------------\u001b[0m",
      "\u001b[0;31mTypeError\u001b[0m                                 Traceback (most recent call last)",
      "\u001b[0;32m<ipython-input-26-15e34c23bd19>\u001b[0m in \u001b[0;36m<module>\u001b[0;34m()\u001b[0m\n\u001b[0;32m----> 1\u001b[0;31m \u001b[0mduration_svm\u001b[0m \u001b[0;34m=\u001b[0m \u001b[0mSVMModel\u001b[0m\u001b[0;34m(\u001b[0m\u001b[0mmaxIter\u001b[0m\u001b[0;34m=\u001b[0m\u001b[0;36m10\u001b[0m\u001b[0;34m)\u001b[0m\u001b[0;34m.\u001b[0m\u001b[0msetLabelCol\u001b[0m\u001b[0;34m(\u001b[0m\u001b[0;34m\"duration\"\u001b[0m\u001b[0;34m)\u001b[0m\u001b[0;34m.\u001b[0m\u001b[0msetFeaturesCol\u001b[0m\u001b[0;34m(\u001b[0m\u001b[0;34m\"features\"\u001b[0m\u001b[0;34m)\u001b[0m\u001b[0;34m\u001b[0m\u001b[0m\n\u001b[0m\u001b[1;32m      2\u001b[0m \u001b[0;34m\u001b[0m\u001b[0m\n\u001b[1;32m      3\u001b[0m \u001b[0mduration_svmModel\u001b[0m \u001b[0;34m=\u001b[0m \u001b[0mduration_svm\u001b[0m\u001b[0;34m.\u001b[0m\u001b[0mfit\u001b[0m\u001b[0;34m(\u001b[0m\u001b[0mtrain\u001b[0m\u001b[0;34m)\u001b[0m\u001b[0;34m\u001b[0m\u001b[0m\n",
      "\u001b[0;31mTypeError\u001b[0m: __init__() got an unexpected keyword argument 'maxIter'"
     ]
    }
   ],
   "source": [
    "#duration_svm = SVMModel(maxIter=10).setLabelCol(\"duration\").setFeaturesCol(\"features\")\n",
    "\n",
    "#duration_svmModel = duration_svm.fit(train)"
   ]
  },
  {
   "cell_type": "markdown",
   "metadata": {},
   "source": [
    "## Trip Crowdedness model"
   ]
  },
  {
   "cell_type": "code",
   "execution_count": 32,
   "metadata": {
    "collapsed": true
   },
   "outputs": [],
   "source": [
    "crowdedness_lr = LinearRegression(maxIter=10, regParam=0.3, elasticNetParam=1).setLabelCol(\"totalpassengers\").setFeaturesCol(\"features\")\n",
    "\n",
    "crowdedness_lrModel = crowdedness_lr.fit(train)"
   ]
  },
  {
   "cell_type": "code",
   "execution_count": 33,
   "metadata": {},
   "outputs": [
    {
     "name": "stdout",
     "output_type": "stream",
     "text": [
      "Model:\n",
      "Coefficients: [0.00915223769293,0.0,-1.58388101213,-0.000145362432562,4.31352086852e-06,0.000313375439836]\n",
      "Intercept: 21.1096148239\n",
      "  \n",
      "Model info\n",
      "numIterations: 11\n",
      "RMSE: 14.368144\n",
      "MAE: 9.658412\n",
      "r2: 0.093718\n"
     ]
    }
   ],
   "source": [
    "print_train_info(crowdedness_lrModel)"
   ]
  },
  {
   "cell_type": "code",
   "execution_count": 34,
   "metadata": {
    "collapsed": true
   },
   "outputs": [],
   "source": [
    "crowdedness_model_eval = crowdedness_lrModel.evaluate(test)"
   ]
  },
  {
   "cell_type": "code",
   "execution_count": 35,
   "metadata": {},
   "outputs": [
    {
     "name": "stdout",
     "output_type": "stream",
     "text": [
      "Eval info:\n",
      "RMSE: 14.005498\n",
      "MAE: 9.558157\n",
      "r2: 0.095711\n"
     ]
    }
   ],
   "source": [
    "print_eval_info(crowdedness_model_eval)"
   ]
  },
  {
   "cell_type": "markdown",
   "metadata": {},
   "source": [
    "Saving model:"
   ]
  },
  {
   "cell_type": "code",
   "execution_count": 36,
   "metadata": {
    "collapsed": true
   },
   "outputs": [],
   "source": [
    "crowdedness_lrModel.write().overwrite().save(\"data/models/crowdedness_lasso_model\")"
   ]
  },
  {
   "cell_type": "markdown",
   "metadata": {},
   "source": [
    "Loading model:"
   ]
  },
  {
   "cell_type": "code",
   "execution_count": 37,
   "metadata": {
    "collapsed": true
   },
   "outputs": [],
   "source": [
    "crowdedness_lrModel_loaded = LinearRegressionModel.load(\"data/models/crowdedness_lasso_model\")"
   ]
  },
  {
   "cell_type": "markdown",
   "metadata": {},
   "source": [
    "Evaluating loaded model:"
   ]
  },
  {
   "cell_type": "code",
   "execution_count": 38,
   "metadata": {},
   "outputs": [
    {
     "name": "stdout",
     "output_type": "stream",
     "text": [
      "Eval info:\n",
      "RMSE: 14.005498\n",
      "MAE: 9.558157\n",
      "r2: 0.095711\n"
     ]
    }
   ],
   "source": [
    "crowdedness_model_loaded_eval = crowdedness_lrModel_loaded.evaluate(test)\n",
    "\n",
    "print_eval_info(crowdedness_model_loaded_eval)"
   ]
  },
  {
   "cell_type": "code",
   "execution_count": null,
   "metadata": {
    "collapsed": true
   },
   "outputs": [],
   "source": [
    "sc.stop()"
   ]
  }
 ],
 "metadata": {
  "kernelspec": {
   "display_name": "Python 2",
   "language": "python",
   "name": "python2"
  },
  "language_info": {
   "codemirror_mode": {
    "name": "ipython",
    "version": 2
   },
   "file_extension": ".py",
   "mimetype": "text/x-python",
   "name": "python",
   "nbconvert_exporter": "python",
   "pygments_lexer": "ipython2",
   "version": "2.7.13"
  }
 },
 "nbformat": 4,
 "nbformat_minor": 2
}
